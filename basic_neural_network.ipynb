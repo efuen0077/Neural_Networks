{
 "cells": [
  {
   "cell_type": "code",
   "execution_count": 39,
   "metadata": {},
   "outputs": [],
   "source": [
    "# Import our dependencies\n",
    "import pandas as pd\n",
    "import matplotlib as plt\n",
    "from sklearn.datasets import make_blobs\n",
    "import sklearn as skl\n",
    "import tensorflow as tf"
   ]
  },
  {
   "cell_type": "code",
   "execution_count": 40,
   "metadata": {},
   "outputs": [
    {
     "data": {
      "text/plain": [
       "<matplotlib.axes._subplots.AxesSubplot at 0x1a391795d0>"
      ]
     },
     "execution_count": 40,
     "metadata": {},
     "output_type": "execute_result"
    },
    {
     "data": {
      "image/png": "[encoded data removed]",
      "text/plain": [
       "<Figure size 432x288 with 2 Axes>"
      ]
     },
     "metadata": {
      "needs_background": "light"
     },
     "output_type": "display_data"
    }
   ],
   "source": [
    "# Generate dummy dataset\n",
    "X, y = make_blobs(n_samples=1000, centers=2, n_features=2, random_state=78)\n",
    "\n",
    "# Creating a DataFrame with the dummy data\n",
    "df = pd.DataFrame(X, columns=[\"Feature 1\", \"Feature 2\"])\n",
    "df[\"Target\"] = y\n",
    "\n",
    "# Plotting the dummy data\n",
    "df.plot.scatter(x=\"Feature 1\", y=\"Feature 2\", c=\"Target\", colormap=\"winter\")"
   ]
  },
  {
   "cell_type": "code",
   "execution_count": 41,
   "metadata": {},
   "outputs": [],
   "source": [
    "# Use sklearn to split dataset\n",
    "from sklearn.model_selection import train_test_split\n",
    "X_train, X_test, y_train, y_test = train_test_split(X, y, random_state=78)"
   ]
  },
  {
   "cell_type": "code",
   "execution_count": 42,
   "metadata": {},
   "outputs": [],
   "source": [
    "# Create scaler instance\n",
    "X_scaler = skl.preprocessing.StandardScaler()\n",
    "\n",
    "# Fit the scaler\n",
    "X_scaler.fit(X_train)\n",
    "\n",
    "# Scale the data\n",
    "X_train_scaled = X_scaler.transform(X_train)\n",
    "X_test_scaled = X_scaler.transform(X_test)"
   ]
  },
  {
   "cell_type": "code",
   "execution_count": 43,
   "metadata": {},
   "outputs": [],
   "source": [
    "# Create the Keras Sequential model\n",
    "nn_model = tf.keras.models.Sequential()"
   ]
  },
  {
   "cell_type": "code",
   "execution_count": 44,
   "metadata": {},
   "outputs": [],
   "source": [
    "# Add our first Dense layer, including the input layer\n",
    "nn_model.add(tf.keras.layers.Dense(units=1, activation=\"relu\", input_dim=2))"
   ]
  },
  {
   "cell_type": "code",
   "execution_count": 45,
   "metadata": {},
   "outputs": [],
   "source": [
    "# Add the output layer that uses a probability activation function\n",
    "nn_model.add(tf.keras.layers.Dense(units=1, activation=\"sigmoid\"))"
   ]
  },
  {
   "cell_type": "code",
   "execution_count": 46,
   "metadata": {},
   "outputs": [
    {
     "name": "stdout",
     "output_type": "stream",
     "text": [
      "Model: \"sequential_2\"\n",
      "_________________________________________________________________\n",
      "Layer (type)                 Output Shape              Param #   \n",
      "=================================================================\n",
      "dense_4 (Dense)              (None, 1)                 3         \n",
      "_________________________________________________________________\n",
      "dense_5 (Dense)              (None, 1)                 2         \n",
      "=================================================================\n",
      "Total params: 5\n",
      "Trainable params: 5\n",
      "Non-trainable params: 0\n",
      "_________________________________________________________________\n"
     ]
    }
   ],
   "source": [
    "nn_model.summary()"
   ]
  },
  {
   "cell_type": "code",
   "execution_count": 47,
   "metadata": {},
   "outputs": [],
   "source": [
    "#1) To enhance the performance of our classification neural network,\n",
    "#we’ll use the adam optimizer, which uses a gradient descent\n",
    "#approach to ensure that the algorithm will not get stuck on\n",
    "#weaker classifying variables and features.\n",
    "\n",
    "#2) As for the loss function, we’ll use binary_crossentropy,\n",
    "#which is specifically designed to evaluate a binary\n",
    "#classification model.\n",
    "\n",
    "\n",
    "# Compile the Sequential model together and customize metrics\n",
    "nn_model.compile(loss=\"binary_crossentropy\", optimizer=\"adam\", metrics=[\"accuracy\"])\n"
   ]
  },
  {
   "cell_type": "code",
   "execution_count": 48,
   "metadata": {},
   "outputs": [
    {
     "name": "stdout",
     "output_type": "stream",
     "text": [
      "Epoch 1/100\n",
      "24/24 [==============================] - 0s 814us/step - loss: 0.7697 - accuracy: 0.1773\n",
      "Epoch 2/100\n",
      "24/24 [==============================] - 0s 790us/step - loss: 0.7579 - accuracy: 0.0507\n",
      "Epoch 3/100\n",
      "24/24 [==============================] - 0s 1ms/step - loss: 0.7477 - accuracy: 0.0867\n",
      "Epoch 4/100\n",
      "24/24 [==============================] - 0s 1ms/step - loss: 0.7395 - accuracy: 0.1200\n",
      "Epoch 5/100\n",
      "24/24 [==============================] - 0s 901us/step - loss: 0.7329 - accuracy: 0.1493\n",
      "Epoch 6/100\n",
      "24/24 [==============================] - 0s 835us/step - loss: 0.7272 - accuracy: 0.1707\n",
      "Epoch 7/100\n",
      "24/24 [==============================] - 0s 718us/step - loss: 0.7225 - accuracy: 0.1960\n",
      "Epoch 8/100\n",
      "24/24 [==============================] - 0s 785us/step - loss: 0.7184 - accuracy: 0.2200\n",
      "Epoch 9/100\n",
      "24/24 [==============================] - 0s 856us/step - loss: 0.7150 - accuracy: 0.2533\n",
      "Epoch 10/100\n",
      "24/24 [==============================] - 0s 730us/step - loss: 0.7119 - accuracy: 0.2787\n",
      "Epoch 11/100\n",
      "24/24 [==============================] - 0s 843us/step - loss: 0.7095 - accuracy: 0.3040\n",
      "Epoch 12/100\n",
      "24/24 [==============================] - 0s 815us/step - loss: 0.7074 - accuracy: 0.3160\n",
      "Epoch 13/100\n",
      "24/24 [==============================] - 0s 745us/step - loss: 0.7055 - accuracy: 0.3373\n",
      "Epoch 14/100\n",
      "24/24 [==============================] - 0s 814us/step - loss: 0.7038 - accuracy: 0.3600\n",
      "Epoch 15/100\n",
      "24/24 [==============================] - 0s 800us/step - loss: 0.7024 - accuracy: 0.3813\n",
      "Epoch 16/100\n",
      "24/24 [==============================] - 0s 792us/step - loss: 0.7011 - accuracy: 0.3933\n",
      "Epoch 17/100\n",
      "24/24 [==============================] - 0s 718us/step - loss: 0.7000 - accuracy: 0.4107\n",
      "Epoch 18/100\n",
      "24/24 [==============================] - 0s 810us/step - loss: 0.6989 - accuracy: 0.4160\n",
      "Epoch 19/100\n",
      "24/24 [==============================] - 0s 805us/step - loss: 0.6980 - accuracy: 0.4267\n",
      "Epoch 20/100\n",
      "24/24 [==============================] - 0s 732us/step - loss: 0.6971 - accuracy: 0.4427\n",
      "Epoch 21/100\n",
      "24/24 [==============================] - 0s 781us/step - loss: 0.6961 - accuracy: 0.4667\n",
      "Epoch 22/100\n",
      "24/24 [==============================] - 0s 784us/step - loss: 0.6952 - accuracy: 0.4920\n",
      "Epoch 23/100\n",
      "24/24 [==============================] - 0s 788us/step - loss: 0.6943 - accuracy: 0.5067\n",
      "Epoch 24/100\n",
      "24/24 [==============================] - 0s 718us/step - loss: 0.6933 - accuracy: 0.5213\n",
      "Epoch 25/100\n",
      "24/24 [==============================] - 0s 887us/step - loss: 0.6923 - accuracy: 0.5333\n",
      "Epoch 26/100\n",
      "24/24 [==============================] - 0s 967us/step - loss: 0.6913 - accuracy: 0.5493\n",
      "Epoch 27/100\n",
      "24/24 [==============================] - 0s 886us/step - loss: 0.6902 - accuracy: 0.5653\n",
      "Epoch 28/100\n",
      "24/24 [==============================] - 0s 979us/step - loss: 0.6889 - accuracy: 0.5893\n",
      "Epoch 29/100\n",
      "24/24 [==============================] - 0s 795us/step - loss: 0.6873 - accuracy: 0.6080\n",
      "Epoch 30/100\n",
      "24/24 [==============================] - 0s 919us/step - loss: 0.6855 - accuracy: 0.6320\n",
      "Epoch 31/100\n",
      "24/24 [==============================] - 0s 838us/step - loss: 0.6834 - accuracy: 0.6440\n",
      "Epoch 32/100\n",
      "24/24 [==============================] - 0s 843us/step - loss: 0.6808 - accuracy: 0.6627\n",
      "Epoch 33/100\n",
      "24/24 [==============================] - 0s 860us/step - loss: 0.6778 - accuracy: 0.6747\n",
      "Epoch 34/100\n",
      "24/24 [==============================] - 0s 795us/step - loss: 0.6741 - accuracy: 0.6880\n",
      "Epoch 35/100\n",
      "24/24 [==============================] - 0s 795us/step - loss: 0.6696 - accuracy: 0.7107\n",
      "Epoch 36/100\n",
      "24/24 [==============================] - 0s 772us/step - loss: 0.6641 - accuracy: 0.7293\n",
      "Epoch 37/100\n",
      "24/24 [==============================] - 0s 739us/step - loss: 0.6573 - accuracy: 0.7467\n",
      "Epoch 38/100\n",
      "24/24 [==============================] - 0s 924us/step - loss: 0.6492 - accuracy: 0.7640\n",
      "Epoch 39/100\n",
      "24/24 [==============================] - 0s 737us/step - loss: 0.6395 - accuracy: 0.7880\n",
      "Epoch 40/100\n",
      "24/24 [==============================] - 0s 712us/step - loss: 0.6287 - accuracy: 0.8067\n",
      "Epoch 41/100\n",
      "24/24 [==============================] - 0s 716us/step - loss: 0.6165 - accuracy: 0.8173\n",
      "Epoch 42/100\n",
      "24/24 [==============================] - 0s 745us/step - loss: 0.6029 - accuracy: 0.8347\n",
      "Epoch 43/100\n",
      "24/24 [==============================] - 0s 779us/step - loss: 0.5884 - accuracy: 0.8467\n",
      "Epoch 44/100\n",
      "24/24 [==============================] - 0s 729us/step - loss: 0.5727 - accuracy: 0.8667\n",
      "Epoch 45/100\n",
      "24/24 [==============================] - 0s 658us/step - loss: 0.5570 - accuracy: 0.8800\n",
      "Epoch 46/100\n",
      "24/24 [==============================] - 0s 685us/step - loss: 0.5410 - accuracy: 0.8880\n",
      "Epoch 47/100\n",
      "24/24 [==============================] - 0s 725us/step - loss: 0.5248 - accuracy: 0.8920\n",
      "Epoch 48/100\n",
      "24/24 [==============================] - 0s 700us/step - loss: 0.5089 - accuracy: 0.8973\n",
      "Epoch 49/100\n",
      "24/24 [==============================] - 0s 732us/step - loss: 0.4932 - accuracy: 0.9067\n",
      "Epoch 50/100\n",
      "24/24 [==============================] - 0s 711us/step - loss: 0.4779 - accuracy: 0.9160\n",
      "Epoch 51/100\n",
      "24/24 [==============================] - 0s 694us/step - loss: 0.4632 - accuracy: 0.9227\n",
      "Epoch 52/100\n",
      "24/24 [==============================] - 0s 714us/step - loss: 0.4491 - accuracy: 0.9253\n",
      "Epoch 53/100\n",
      "24/24 [==============================] - 0s 698us/step - loss: 0.4357 - accuracy: 0.9320\n",
      "Epoch 54/100\n",
      "24/24 [==============================] - 0s 746us/step - loss: 0.4227 - accuracy: 0.9360\n",
      "Epoch 55/100\n",
      "24/24 [==============================] - 0s 716us/step - loss: 0.4103 - accuracy: 0.9427\n",
      "Epoch 56/100\n",
      "24/24 [==============================] - 0s 714us/step - loss: 0.3983 - accuracy: 0.9440\n",
      "Epoch 57/100\n",
      "24/24 [==============================] - 0s 691us/step - loss: 0.3868 - accuracy: 0.9467\n",
      "Epoch 58/100\n",
      "24/24 [==============================] - 0s 713us/step - loss: 0.3757 - accuracy: 0.9467\n",
      "Epoch 59/100\n",
      "24/24 [==============================] - 0s 716us/step - loss: 0.3651 - accuracy: 0.9480\n",
      "Epoch 60/100\n",
      "24/24 [==============================] - 0s 712us/step - loss: 0.3549 - accuracy: 0.9507\n",
      "Epoch 61/100\n",
      "24/24 [==============================] - 0s 756us/step - loss: 0.3451 - accuracy: 0.9520\n",
      "Epoch 62/100\n",
      "24/24 [==============================] - 0s 715us/step - loss: 0.3357 - accuracy: 0.9560\n",
      "Epoch 63/100\n",
      "24/24 [==============================] - 0s 705us/step - loss: 0.3266 - accuracy: 0.9560\n",
      "Epoch 64/100\n",
      "24/24 [==============================] - 0s 722us/step - loss: 0.3178 - accuracy: 0.9573\n",
      "Epoch 65/100\n",
      "24/24 [==============================] - 0s 715us/step - loss: 0.3093 - accuracy: 0.9613\n",
      "Epoch 66/100\n",
      "24/24 [==============================] - 0s 704us/step - loss: 0.3010 - accuracy: 0.9627\n",
      "Epoch 67/100\n",
      "24/24 [==============================] - 0s 728us/step - loss: 0.2931 - accuracy: 0.9627\n",
      "Epoch 68/100\n",
      "24/24 [==============================] - 0s 715us/step - loss: 0.2855 - accuracy: 0.9640\n",
      "Epoch 69/100\n",
      "24/24 [==============================] - 0s 699us/step - loss: 0.2782 - accuracy: 0.9667\n",
      "Epoch 70/100\n",
      "24/24 [==============================] - 0s 727us/step - loss: 0.2711 - accuracy: 0.9680\n",
      "Epoch 71/100\n",
      "24/24 [==============================] - 0s 723us/step - loss: 0.2642 - accuracy: 0.9693\n",
      "Epoch 72/100\n",
      "24/24 [==============================] - 0s 749us/step - loss: 0.2576 - accuracy: 0.9693\n",
      "Epoch 73/100\n",
      "24/24 [==============================] - 0s 716us/step - loss: 0.2512 - accuracy: 0.9720\n",
      "Epoch 74/100\n",
      "24/24 [==============================] - 0s 720us/step - loss: 0.2450 - accuracy: 0.9720\n",
      "Epoch 75/100\n",
      "24/24 [==============================] - 0s 702us/step - loss: 0.2389 - accuracy: 0.9773\n",
      "Epoch 76/100\n",
      "24/24 [==============================] - 0s 707us/step - loss: 0.2330 - accuracy: 0.9773\n",
      "Epoch 77/100\n",
      "24/24 [==============================] - 0s 718us/step - loss: 0.2274 - accuracy: 0.9773\n",
      "Epoch 78/100\n",
      "24/24 [==============================] - 0s 714us/step - loss: 0.2219 - accuracy: 0.9800\n",
      "Epoch 79/100\n",
      "24/24 [==============================] - 0s 719us/step - loss: 0.2166 - accuracy: 0.9827\n",
      "Epoch 80/100\n",
      "24/24 [==============================] - 0s 705us/step - loss: 0.2115 - accuracy: 0.9840\n",
      "Epoch 81/100\n"
     ]
    },
    {
     "name": "stdout",
     "output_type": "stream",
     "text": [
      "24/24 [==============================] - 0s 733us/step - loss: 0.2065 - accuracy: 0.9867\n",
      "Epoch 82/100\n",
      "24/24 [==============================] - 0s 716us/step - loss: 0.2018 - accuracy: 0.9880\n",
      "Epoch 83/100\n",
      "24/24 [==============================] - 0s 778us/step - loss: 0.1971 - accuracy: 0.9893\n",
      "Epoch 84/100\n",
      "24/24 [==============================] - 0s 705us/step - loss: 0.1926 - accuracy: 0.9907\n",
      "Epoch 85/100\n",
      "24/24 [==============================] - 0s 697us/step - loss: 0.1882 - accuracy: 0.9920\n",
      "Epoch 86/100\n",
      "24/24 [==============================] - 0s 705us/step - loss: 0.1840 - accuracy: 0.9920\n",
      "Epoch 87/100\n",
      "24/24 [==============================] - 0s 666us/step - loss: 0.1798 - accuracy: 0.9920\n",
      "Epoch 88/100\n",
      "24/24 [==============================] - 0s 681us/step - loss: 0.1758 - accuracy: 0.9920\n",
      "Epoch 89/100\n",
      "24/24 [==============================] - 0s 699us/step - loss: 0.1719 - accuracy: 0.9933\n",
      "Epoch 90/100\n",
      "24/24 [==============================] - 0s 713us/step - loss: 0.1683 - accuracy: 0.9933\n",
      "Epoch 91/100\n",
      "24/24 [==============================] - 0s 733us/step - loss: 0.1646 - accuracy: 0.9933\n",
      "Epoch 92/100\n",
      "24/24 [==============================] - 0s 744us/step - loss: 0.1611 - accuracy: 0.9933\n",
      "Epoch 93/100\n",
      "24/24 [==============================] - 0s 688us/step - loss: 0.1576 - accuracy: 0.9933\n",
      "Epoch 94/100\n",
      "24/24 [==============================] - 0s 702us/step - loss: 0.1543 - accuracy: 0.9947\n",
      "Epoch 95/100\n",
      "24/24 [==============================] - 0s 694us/step - loss: 0.1511 - accuracy: 0.9947\n",
      "Epoch 96/100\n",
      "24/24 [==============================] - 0s 698us/step - loss: 0.1479 - accuracy: 0.9960\n",
      "Epoch 97/100\n",
      "24/24 [==============================] - 0s 773us/step - loss: 0.1448 - accuracy: 0.9960\n",
      "Epoch 98/100\n",
      "24/24 [==============================] - 0s 705us/step - loss: 0.1419 - accuracy: 0.9960\n",
      "Epoch 99/100\n",
      "24/24 [==============================] - 0s 691us/step - loss: 0.1390 - accuracy: 0.9960\n",
      "Epoch 100/100\n",
      "24/24 [==============================] - 0s 697us/step - loss: 0.1361 - accuracy: 0.9960\n"
     ]
    }
   ],
   "source": [
    "#TRAINING AND FITTING OUR MODEL 19.2.3\n",
    "\n",
    "# Fit the model to the training data\n",
    "fit_model = nn_model.fit(X_train_scaled, y_train, epochs=100)"
   ]
  },
  {
   "cell_type": "code",
   "execution_count": 49,
   "metadata": {},
   "outputs": [],
   "source": [
    "#loss metric = 0.07 and Predictive accuracy = 1.0\n",
    "#from the above data we can see that slthough our model performace had\n",
    "#more loss than the simulation data, the model correctly classifies\n",
    "#all of our training data, which is sufficient for our needs."
   ]
  },
  {
   "cell_type": "code",
   "execution_count": 50,
   "metadata": {},
   "outputs": [
    {
     "data": {
      "text/plain": [
       "<matplotlib.axes._subplots.AxesSubplot at 0x1a394e6950>"
      ]
     },
     "execution_count": 50,
     "metadata": {},
     "output_type": "execute_result"
    },
    {
     "data": {
      "image/png": "[encoded data removed]",
      "text/plain": [
       "<Figure size 432x288 with 1 Axes>"
      ]
     },
     "metadata": {
      "needs_background": "light"
     },
     "output_type": "display_data"
    }
   ],
   "source": [
    "# Create a DataFrame containing training history\n",
    "history_df = pd.DataFrame(fit_model.history, index=range(1,len(fit_model.history[\"loss\"])+1))\n",
    "\n",
    "# Plot the loss\n",
    "history_df.plot(y=\"loss\")"
   ]
  },
  {
   "cell_type": "code",
   "execution_count": 51,
   "metadata": {},
   "outputs": [
    {
     "data": {
      "text/plain": [
       "<matplotlib.axes._subplots.AxesSubplot at 0x1a37665c10>"
      ]
     },
     "execution_count": 51,
     "metadata": {},
     "output_type": "execute_result"
    },
    {
     "data": {
      "image/png": "[encoded data removed]",
      "text/plain": [
       "<Figure size 432x288 with 1 Axes>"
      ]
     },
     "metadata": {
      "needs_background": "light"
     },
     "output_type": "display_data"
    }
   ],
   "source": [
    "# Plot the accuracy\n",
    "history_df.plot(y=\"accuracy\")"
   ]
  },
  {
   "cell_type": "code",
   "execution_count": 52,
   "metadata": {},
   "outputs": [
    {
     "name": "stdout",
     "output_type": "stream",
     "text": [
      "8/8 - 0s - loss: 0.1347 - accuracy: 0.9960\n",
      "Loss: 0.13471068441867828, Accuracy: 0.9959999918937683\n"
     ]
    }
   ],
   "source": [
    "# Evaluate the model using the test data\n",
    "model_loss, model_accuracy = nn_model.evaluate(X_test_scaled,y_test,verbose=2)\n",
    "print(f\"Loss: {model_loss}, Accuracy: {model_accuracy}\")"
   ]
  },
  {
   "cell_type": "code",
   "execution_count": 53,
   "metadata": {},
   "outputs": [
    {
     "data": {
      "text/plain": [
       "array([[0],\n",
       "       [1],\n",
       "       [0],\n",
       "       [1],\n",
       "       [0],\n",
       "       [0],\n",
       "       [1],\n",
       "       [1],\n",
       "       [1],\n",
       "       [0]], dtype=int32)"
      ]
     },
     "execution_count": 53,
     "metadata": {},
     "output_type": "execute_result"
    }
   ],
   "source": [
    "#Now that we have a trained neural network model and we\n",
    "#have verified its performance using a test dataset, we\n",
    "#can apply this model to novel datasets and predict the\n",
    "#classification of a data point\n",
    "\n",
    "# Predict the classification of a new set of blob data\n",
    "new_X, new_Y = make_blobs(n_samples=10, centers=2, n_features=2, random_state=78)\n",
    "new_X_scaled = X_scaler.transform(new_X)\n",
    "nn_model.predict_classes(new_X_scaled)\n"
   ]
  },
  {
   "cell_type": "code",
   "execution_count": 54,
   "metadata": {},
   "outputs": [
    {
     "data": {
      "text/plain": [
       "<matplotlib.axes._subplots.AxesSubplot at 0x1a396f5910>"
      ]
     },
     "execution_count": 54,
     "metadata": {},
     "output_type": "execute_result"
    },
    {
     "data": {
      "image/png": "[encoded data removed]",
      "text/plain": [
       "<Figure size 432x288 with 2 Axes>"
      ]
     },
     "metadata": {
      "needs_background": "light"
     },
     "output_type": "display_data"
    }
   ],
   "source": [
    "#---19.2.4 Nuances of Neaural Networks on Nonlinear Numbers---\n",
    "# testing the limits of the basic neural network\n",
    "\n",
    "#generate some new dummy data. This time we’ll generate some\n",
    "#nonlinear moon-shaped data using Scikit-learn’s make_moons\n",
    "#method and visualize it using Pandas and Matplotlib.\n",
    "\n",
    "from sklearn.datasets import make_moons\n",
    "\n",
    "# Creating dummy nonlinear data\n",
    "X_moons, y_moons = make_moons(n_samples=1000, noise=0.08, random_state=78)\n",
    "\n",
    "# Transforming y_moons to a vertical vector\n",
    "y_moons = y_moons.reshape(-1, 1)\n",
    "\n",
    "# Creating a DataFrame to plot the nonlinear dummy data\n",
    "df_moons = pd.DataFrame(X_moons, columns=[\"Feature 1\", \"Feature 2\"])\n",
    "df_moons[\"Target\"] = y_moons\n",
    "\n",
    "# Plot the nonlinear dummy data\n",
    "df_moons.plot.scatter(x=\"Feature 1\",y=\"Feature 2\", c=\"Target\",colormap=\"winter\")\n"
   ]
  },
  {
   "cell_type": "code",
   "execution_count": 55,
   "metadata": {},
   "outputs": [],
   "source": [
    "#As with our previous dummy data example, we need to\n",
    "#split our nonlinear data into training and testing\n",
    "#datasets and normalize our datasets.\n",
    "\n",
    "\n",
    "# Create training and testing sets\n",
    "X_moon_train, X_moon_test, y_moon_train, y_moon_test = train_test_split(\n",
    "    X_moons, y_moons, random_state=78\n",
    ")\n",
    "\n",
    "# Create the scaler instance\n",
    "X_moon_scaler = skl.preprocessing.StandardScaler()\n",
    "\n",
    "# Fit the scaler\n",
    "X_moon_scaler.fit(X_moon_train)\n",
    "\n",
    "# Scale the data\n",
    "X_moon_train_scaled = X_moon_scaler.transform(X_moon_train)\n",
    "X_moon_test_scaled = X_moon_scaler.transform(X_moon_test)"
   ]
  },
  {
   "cell_type": "code",
   "execution_count": 56,
   "metadata": {},
   "outputs": [
    {
     "name": "stdout",
     "output_type": "stream",
     "text": [
      "Epoch 1/100\n",
      "24/24 [==============================] - 0s 963us/step - loss: 1.2969 - accuracy: 0.3427\n",
      "Epoch 2/100\n",
      "24/24 [==============================] - 0s 1ms/step - loss: 1.1539 - accuracy: 0.3573\n",
      "Epoch 3/100\n",
      "24/24 [==============================] - 0s 1ms/step - loss: 1.0548 - accuracy: 0.3773\n",
      "Epoch 4/100\n",
      "24/24 [==============================] - 0s 1ms/step - loss: 0.9891 - accuracy: 0.3933\n",
      "Epoch 5/100\n",
      "24/24 [==============================] - 0s 1ms/step - loss: 0.9386 - accuracy: 0.4093\n",
      "Epoch 6/100\n",
      "24/24 [==============================] - 0s 1ms/step - loss: 0.9002 - accuracy: 0.4293\n",
      "Epoch 7/100\n",
      "24/24 [==============================] - 0s 835us/step - loss: 0.8687 - accuracy: 0.4400\n",
      "Epoch 8/100\n",
      "24/24 [==============================] - 0s 905us/step - loss: 0.8414 - accuracy: 0.4453\n",
      "Epoch 9/100\n",
      "24/24 [==============================] - 0s 797us/step - loss: 0.8175 - accuracy: 0.4533\n",
      "Epoch 10/100\n",
      "24/24 [==============================] - 0s 913us/step - loss: 0.7953 - accuracy: 0.4640\n",
      "Epoch 11/100\n",
      "24/24 [==============================] - 0s 954us/step - loss: 0.7755 - accuracy: 0.4747\n",
      "Epoch 12/100\n",
      "24/24 [==============================] - 0s 842us/step - loss: 0.7568 - accuracy: 0.4893\n",
      "Epoch 13/100\n",
      "24/24 [==============================] - 0s 966us/step - loss: 0.7405 - accuracy: 0.4960\n",
      "Epoch 14/100\n",
      "24/24 [==============================] - 0s 806us/step - loss: 0.7257 - accuracy: 0.5080\n",
      "Epoch 15/100\n",
      "24/24 [==============================] - 0s 876us/step - loss: 0.7115 - accuracy: 0.5213\n",
      "Epoch 16/100\n",
      "24/24 [==============================] - 0s 808us/step - loss: 0.6987 - accuracy: 0.5347\n",
      "Epoch 17/100\n",
      "24/24 [==============================] - 0s 932us/step - loss: 0.6867 - accuracy: 0.5467\n",
      "Epoch 18/100\n",
      "24/24 [==============================] - 0s 944us/step - loss: 0.6757 - accuracy: 0.5560\n",
      "Epoch 19/100\n",
      "24/24 [==============================] - 0s 817us/step - loss: 0.6657 - accuracy: 0.5653\n",
      "Epoch 20/100\n",
      "24/24 [==============================] - 0s 928us/step - loss: 0.6558 - accuracy: 0.5760\n",
      "Epoch 21/100\n",
      "24/24 [==============================] - 0s 814us/step - loss: 0.6466 - accuracy: 0.5893\n",
      "Epoch 22/100\n",
      "24/24 [==============================] - 0s 895us/step - loss: 0.6380 - accuracy: 0.5973\n",
      "Epoch 23/100\n",
      "24/24 [==============================] - 0s 912us/step - loss: 0.6297 - accuracy: 0.6000\n",
      "Epoch 24/100\n",
      "24/24 [==============================] - 0s 827us/step - loss: 0.6220 - accuracy: 0.6080\n",
      "Epoch 25/100\n",
      "24/24 [==============================] - 0s 952us/step - loss: 0.6145 - accuracy: 0.6107\n",
      "Epoch 26/100\n",
      "24/24 [==============================] - 0s 812us/step - loss: 0.6071 - accuracy: 0.6200\n",
      "Epoch 27/100\n",
      "24/24 [==============================] - 0s 916us/step - loss: 0.6004 - accuracy: 0.6267\n",
      "Epoch 28/100\n",
      "24/24 [==============================] - 0s 817us/step - loss: 0.5936 - accuracy: 0.6307\n",
      "Epoch 29/100\n",
      "24/24 [==============================] - 0s 970us/step - loss: 0.5872 - accuracy: 0.6400\n",
      "Epoch 30/100\n",
      "24/24 [==============================] - 0s 883us/step - loss: 0.5812 - accuracy: 0.6440\n",
      "Epoch 31/100\n",
      "24/24 [==============================] - 0s 815us/step - loss: 0.5754 - accuracy: 0.6520\n",
      "Epoch 32/100\n",
      "24/24 [==============================] - 0s 918us/step - loss: 0.5699 - accuracy: 0.6573\n",
      "Epoch 33/100\n",
      "24/24 [==============================] - 0s 814us/step - loss: 0.5648 - accuracy: 0.6627\n",
      "Epoch 34/100\n",
      "24/24 [==============================] - 0s 909us/step - loss: 0.5597 - accuracy: 0.6707\n",
      "Epoch 35/100\n",
      "24/24 [==============================] - 0s 959us/step - loss: 0.5548 - accuracy: 0.6720\n",
      "Epoch 36/100\n",
      "24/24 [==============================] - 0s 894us/step - loss: 0.5502 - accuracy: 0.6773\n",
      "Epoch 37/100\n",
      "24/24 [==============================] - 0s 943us/step - loss: 0.5457 - accuracy: 0.6800\n",
      "Epoch 38/100\n",
      "24/24 [==============================] - 0s 757us/step - loss: 0.5413 - accuracy: 0.6840\n",
      "Epoch 39/100\n",
      "24/24 [==============================] - 0s 835us/step - loss: 0.5373 - accuracy: 0.6920\n",
      "Epoch 40/100\n",
      "24/24 [==============================] - 0s 797us/step - loss: 0.5334 - accuracy: 0.6973\n",
      "Epoch 41/100\n",
      "24/24 [==============================] - 0s 826us/step - loss: 0.5295 - accuracy: 0.7000\n",
      "Epoch 42/100\n",
      "24/24 [==============================] - 0s 841us/step - loss: 0.5256 - accuracy: 0.7000\n",
      "Epoch 43/100\n",
      "24/24 [==============================] - 0s 813us/step - loss: 0.5216 - accuracy: 0.7013\n",
      "Epoch 44/100\n",
      "24/24 [==============================] - 0s 917us/step - loss: 0.5178 - accuracy: 0.7040\n",
      "Epoch 45/100\n",
      "24/24 [==============================] - 0s 832us/step - loss: 0.5142 - accuracy: 0.7080\n",
      "Epoch 46/100\n",
      "24/24 [==============================] - 0s 815us/step - loss: 0.5105 - accuracy: 0.7160\n",
      "Epoch 47/100\n",
      "24/24 [==============================] - 0s 874us/step - loss: 0.5068 - accuracy: 0.7173\n",
      "Epoch 48/100\n",
      "24/24 [==============================] - 0s 829us/step - loss: 0.5032 - accuracy: 0.7200\n",
      "Epoch 49/100\n",
      "24/24 [==============================] - 0s 718us/step - loss: 0.4998 - accuracy: 0.7227\n",
      "Epoch 50/100\n",
      "24/24 [==============================] - 0s 813us/step - loss: 0.4964 - accuracy: 0.7267\n",
      "Epoch 51/100\n",
      "24/24 [==============================] - 0s 875us/step - loss: 0.4931 - accuracy: 0.7293\n",
      "Epoch 52/100\n",
      "24/24 [==============================] - 0s 818us/step - loss: 0.4898 - accuracy: 0.7320\n",
      "Epoch 53/100\n",
      "24/24 [==============================] - 0s 840us/step - loss: 0.4866 - accuracy: 0.7360\n",
      "Epoch 54/100\n",
      "24/24 [==============================] - 0s 854us/step - loss: 0.4836 - accuracy: 0.7387\n",
      "Epoch 55/100\n",
      "24/24 [==============================] - 0s 831us/step - loss: 0.4805 - accuracy: 0.7387\n",
      "Epoch 56/100\n",
      "24/24 [==============================] - 0s 857us/step - loss: 0.4775 - accuracy: 0.7413\n",
      "Epoch 57/100\n",
      "24/24 [==============================] - 0s 855us/step - loss: 0.4745 - accuracy: 0.7427\n",
      "Epoch 58/100\n",
      "24/24 [==============================] - 0s 818us/step - loss: 0.4714 - accuracy: 0.7467\n",
      "Epoch 59/100\n",
      "24/24 [==============================] - 0s 885us/step - loss: 0.4685 - accuracy: 0.7493\n",
      "Epoch 60/100\n",
      "24/24 [==============================] - 0s 847us/step - loss: 0.4656 - accuracy: 0.7507\n",
      "Epoch 61/100\n",
      "24/24 [==============================] - 0s 766us/step - loss: 0.4627 - accuracy: 0.7533\n",
      "Epoch 62/100\n",
      "24/24 [==============================] - 0s 871us/step - loss: 0.4597 - accuracy: 0.7560\n",
      "Epoch 63/100\n",
      "24/24 [==============================] - 0s 803us/step - loss: 0.4566 - accuracy: 0.7640\n",
      "Epoch 64/100\n",
      "24/24 [==============================] - 0s 870us/step - loss: 0.4537 - accuracy: 0.7653\n",
      "Epoch 65/100\n",
      "24/24 [==============================] - 0s 866us/step - loss: 0.4506 - accuracy: 0.7653\n",
      "Epoch 66/100\n",
      "24/24 [==============================] - 0s 969us/step - loss: 0.4477 - accuracy: 0.7667\n",
      "Epoch 67/100\n",
      "24/24 [==============================] - 0s 885us/step - loss: 0.4448 - accuracy: 0.7707\n",
      "Epoch 68/100\n",
      "24/24 [==============================] - 0s 817us/step - loss: 0.4418 - accuracy: 0.7720\n",
      "Epoch 69/100\n",
      "24/24 [==============================] - 0s 874us/step - loss: 0.4388 - accuracy: 0.7760\n",
      "Epoch 70/100\n",
      "24/24 [==============================] - 0s 967us/step - loss: 0.4359 - accuracy: 0.7800\n",
      "Epoch 71/100\n",
      "24/24 [==============================] - 0s 807us/step - loss: 0.4329 - accuracy: 0.7813\n",
      "Epoch 72/100\n",
      "24/24 [==============================] - 0s 749us/step - loss: 0.4298 - accuracy: 0.7827\n",
      "Epoch 73/100\n",
      "24/24 [==============================] - 0s 839us/step - loss: 0.4269 - accuracy: 0.7840\n",
      "Epoch 74/100\n",
      "24/24 [==============================] - 0s 876us/step - loss: 0.4239 - accuracy: 0.7880\n",
      "Epoch 75/100\n",
      "24/24 [==============================] - 0s 1ms/step - loss: 0.4208 - accuracy: 0.7947\n",
      "Epoch 76/100\n",
      "24/24 [==============================] - 0s 1ms/step - loss: 0.4179 - accuracy: 0.8000\n",
      "Epoch 77/100\n",
      "24/24 [==============================] - 0s 888us/step - loss: 0.4151 - accuracy: 0.8027\n",
      "Epoch 78/100\n",
      "24/24 [==============================] - 0s 836us/step - loss: 0.4121 - accuracy: 0.8040\n",
      "Epoch 79/100\n",
      "24/24 [==============================] - 0s 832us/step - loss: 0.4093 - accuracy: 0.8067\n",
      "Epoch 80/100\n",
      "24/24 [==============================] - 0s 808us/step - loss: 0.4064 - accuracy: 0.8080\n",
      "Epoch 81/100\n"
     ]
    },
    {
     "name": "stdout",
     "output_type": "stream",
     "text": [
      "24/24 [==============================] - 0s 827us/step - loss: 0.4032 - accuracy: 0.8080\n",
      "Epoch 82/100\n",
      "24/24 [==============================] - 0s 848us/step - loss: 0.3999 - accuracy: 0.8133\n",
      "Epoch 83/100\n",
      "24/24 [==============================] - 0s 759us/step - loss: 0.3968 - accuracy: 0.8160\n",
      "Epoch 84/100\n",
      "24/24 [==============================] - 0s 792us/step - loss: 0.3935 - accuracy: 0.8173\n",
      "Epoch 85/100\n",
      "24/24 [==============================] - 0s 777us/step - loss: 0.3905 - accuracy: 0.8240\n",
      "Epoch 86/100\n",
      "24/24 [==============================] - 0s 777us/step - loss: 0.3873 - accuracy: 0.8267\n",
      "Epoch 87/100\n",
      "24/24 [==============================] - 0s 790us/step - loss: 0.3843 - accuracy: 0.8293\n",
      "Epoch 88/100\n",
      "24/24 [==============================] - 0s 794us/step - loss: 0.3810 - accuracy: 0.8293\n",
      "Epoch 89/100\n",
      "24/24 [==============================] - 0s 793us/step - loss: 0.3779 - accuracy: 0.8320\n",
      "Epoch 90/100\n",
      "24/24 [==============================] - 0s 754us/step - loss: 0.3748 - accuracy: 0.8347\n",
      "Epoch 91/100\n",
      "24/24 [==============================] - 0s 785us/step - loss: 0.3717 - accuracy: 0.8373\n",
      "Epoch 92/100\n",
      "24/24 [==============================] - 0s 785us/step - loss: 0.3685 - accuracy: 0.8400\n",
      "Epoch 93/100\n",
      "24/24 [==============================] - 0s 784us/step - loss: 0.3653 - accuracy: 0.8427\n",
      "Epoch 94/100\n",
      "24/24 [==============================] - 0s 768us/step - loss: 0.3622 - accuracy: 0.8453\n",
      "Epoch 95/100\n",
      "24/24 [==============================] - 0s 807us/step - loss: 0.3590 - accuracy: 0.8480\n",
      "Epoch 96/100\n",
      "24/24 [==============================] - 0s 782us/step - loss: 0.3558 - accuracy: 0.8507\n",
      "Epoch 97/100\n",
      "24/24 [==============================] - 0s 776us/step - loss: 0.3527 - accuracy: 0.8520\n",
      "Epoch 98/100\n",
      "24/24 [==============================] - 0s 730us/step - loss: 0.3492 - accuracy: 0.8573\n",
      "Epoch 99/100\n",
      "24/24 [==============================] - 0s 754us/step - loss: 0.3461 - accuracy: 0.8587\n",
      "Epoch 100/100\n",
      "24/24 [==============================] - 0s 806us/step - loss: 0.3431 - accuracy: 0.8600\n"
     ]
    }
   ],
   "source": [
    "#we’ll train our neural network model using the fit\n",
    "#method on the nonlinear training data\n",
    "\n",
    "\n",
    "# Training the model with the nonlinear data\n",
    "model_moon = nn_model.fit(X_moon_train_scaled, y_moon_train, epochs=100, shuffle=True)\n"
   ]
  },
  {
   "cell_type": "code",
   "execution_count": 57,
   "metadata": {},
   "outputs": [],
   "source": [
    "#TensorFlow stopped training the model after 84 epochs\n",
    "#because the loss metric was no longer decreasing at\n",
    "#a substantial rate, and the accuracy was not improving."
   ]
  },
  {
   "cell_type": "code",
   "execution_count": 58,
   "metadata": {},
   "outputs": [
    {
     "data": {
      "text/plain": [
       "<matplotlib.axes._subplots.AxesSubplot at 0x1a388b7090>"
      ]
     },
     "execution_count": 58,
     "metadata": {},
     "output_type": "execute_result"
    },
    {
     "data": {
      "image/png": "[encoded data removed]",
      "text/plain": [
       "<Figure size 432x288 with 1 Axes>"
      ]
     },
     "metadata": {
      "needs_background": "light"
     },
     "output_type": "display_data"
    }
   ],
   "source": [
    "# Create a DataFrame containing training history\n",
    "history_df = pd.DataFrame(model_moon.history, index=range(1,len(model_moon.history[\"loss\"])+1))\n",
    "\n",
    "# Plot the loss\n",
    "history_df.plot(y=\"loss\")"
   ]
  },
  {
   "cell_type": "code",
   "execution_count": 59,
   "metadata": {},
   "outputs": [
    {
     "data": {
      "text/plain": [
       "<matplotlib.axes._subplots.AxesSubplot at 0x1a3986d450>"
      ]
     },
     "execution_count": 59,
     "metadata": {},
     "output_type": "execute_result"
    },
    {
     "data": {
      "image/png": "[encoded data removed]",
      "text/plain": [
       "<Figure size 432x288 with 1 Axes>"
      ]
     },
     "metadata": {
      "needs_background": "light"
     },
     "output_type": "display_data"
    }
   ],
   "source": [
    "# Plot the loss\n",
    "history_df.plot(y=\"accuracy\")"
   ]
  },
  {
   "cell_type": "code",
   "execution_count": 60,
   "metadata": {},
   "outputs": [],
   "source": [
    "#According to the accuracy metric, the basic\n",
    "#single-neuron, single-layer neural network\n",
    "#model was only able to correctly classify\n",
    "#89% of all data points in the nonlinear training data."
   ]
  },
  {
   "cell_type": "code",
   "execution_count": 61,
   "metadata": {},
   "outputs": [],
   "source": [
    "#in many industrial and medical use cases, a model’s\n",
    "#classification accuracy must exceed 95% or even 99%.\n",
    "#In these cases, we wouldn’t be satisfied with the basic\n",
    "#single-neuron, single-layer neural network model, and we\n",
    "#would have to design a more robust neural network"
   ]
  },
  {
   "cell_type": "code",
   "execution_count": 62,
   "metadata": {},
   "outputs": [],
   "source": [
    "#19.2.5 Create the Connective Tissue, the Multiple-Neuron Neural Network\n",
    "\n",
    "#RMK: A good rule of thumb for a basic neural network is:\n",
    "#to have two to three times the amount of neurons in the\n",
    "#hidden layer as the number of inputs."
   ]
  },
  {
   "cell_type": "code",
   "execution_count": 63,
   "metadata": {},
   "outputs": [],
   "source": [
    "# Generate our new Sequential model\n",
    "new_model = tf.keras.models.Sequential()"
   ]
  },
  {
   "cell_type": "code",
   "execution_count": 64,
   "metadata": {},
   "outputs": [],
   "source": [
    "# Add the input and hidden layer\n",
    "number_inputs = 2\n",
    "number_hidden_nodes = 6\n",
    "\n",
    "new_model.add(tf.keras.layers.Dense(units=number_hidden_nodes, activation=\"relu\", input_dim=number_inputs))\n",
    "\n",
    "# Add the output layer that uses a probability activation function\n",
    "new_model.add(tf.keras.layers.Dense(units=1, activation=\"sigmoid\"))"
   ]
  },
  {
   "cell_type": "code",
   "execution_count": 65,
   "metadata": {},
   "outputs": [
    {
     "name": "stdout",
     "output_type": "stream",
     "text": [
      "Epoch 1/100\n",
      "24/24 [==============================] - 0s 882us/step - loss: 0.7405 - accuracy: 0.2720\n",
      "Epoch 2/100\n",
      "24/24 [==============================] - 0s 864us/step - loss: 0.7026 - accuracy: 0.3080\n",
      "Epoch 3/100\n",
      "24/24 [==============================] - 0s 869us/step - loss: 0.6685 - accuracy: 0.4400\n",
      "Epoch 4/100\n",
      "24/24 [==============================] - 0s 805us/step - loss: 0.6384 - accuracy: 0.6667\n",
      "Epoch 5/100\n",
      "24/24 [==============================] - 0s 818us/step - loss: 0.6124 - accuracy: 0.7787\n",
      "Epoch 6/100\n",
      "24/24 [==============================] - 0s 790us/step - loss: 0.5878 - accuracy: 0.8147\n",
      "Epoch 7/100\n",
      "24/24 [==============================] - 0s 747us/step - loss: 0.5642 - accuracy: 0.8373\n",
      "Epoch 8/100\n",
      "24/24 [==============================] - 0s 746us/step - loss: 0.5413 - accuracy: 0.8533\n",
      "Epoch 9/100\n",
      "24/24 [==============================] - 0s 784us/step - loss: 0.5194 - accuracy: 0.8613\n",
      "Epoch 10/100\n",
      "24/24 [==============================] - 0s 917us/step - loss: 0.4985 - accuracy: 0.8680\n",
      "Epoch 11/100\n",
      "24/24 [==============================] - 0s 758us/step - loss: 0.4787 - accuracy: 0.8680\n",
      "Epoch 12/100\n",
      "24/24 [==============================] - 0s 690us/step - loss: 0.4597 - accuracy: 0.8680\n",
      "Epoch 13/100\n",
      "24/24 [==============================] - 0s 788us/step - loss: 0.4422 - accuracy: 0.8747\n",
      "Epoch 14/100\n",
      "24/24 [==============================] - 0s 773us/step - loss: 0.4256 - accuracy: 0.8760\n",
      "Epoch 15/100\n",
      "24/24 [==============================] - 0s 846us/step - loss: 0.4103 - accuracy: 0.8773\n",
      "Epoch 16/100\n",
      "24/24 [==============================] - 0s 776us/step - loss: 0.3961 - accuracy: 0.8827\n",
      "Epoch 17/100\n",
      "24/24 [==============================] - 0s 814us/step - loss: 0.3827 - accuracy: 0.8840\n",
      "Epoch 18/100\n",
      "24/24 [==============================] - 0s 800us/step - loss: 0.3705 - accuracy: 0.8840\n",
      "Epoch 19/100\n",
      "24/24 [==============================] - 0s 848us/step - loss: 0.3592 - accuracy: 0.8840\n",
      "Epoch 20/100\n",
      "24/24 [==============================] - 0s 715us/step - loss: 0.3487 - accuracy: 0.8840\n",
      "Epoch 21/100\n",
      "24/24 [==============================] - 0s 791us/step - loss: 0.3391 - accuracy: 0.8853\n",
      "Epoch 22/100\n",
      "24/24 [==============================] - 0s 842us/step - loss: 0.3305 - accuracy: 0.8853\n",
      "Epoch 23/100\n",
      "24/24 [==============================] - 0s 705us/step - loss: 0.3220 - accuracy: 0.8867\n",
      "Epoch 24/100\n",
      "24/24 [==============================] - 0s 850us/step - loss: 0.3148 - accuracy: 0.8867\n",
      "Epoch 25/100\n",
      "24/24 [==============================] - 0s 861us/step - loss: 0.3078 - accuracy: 0.8880\n",
      "Epoch 26/100\n",
      "24/24 [==============================] - 0s 709us/step - loss: 0.3016 - accuracy: 0.8867\n",
      "Epoch 27/100\n",
      "24/24 [==============================] - 0s 826us/step - loss: 0.2959 - accuracy: 0.8880\n",
      "Epoch 28/100\n",
      "24/24 [==============================] - 0s 820us/step - loss: 0.2907 - accuracy: 0.8880\n",
      "Epoch 29/100\n",
      "24/24 [==============================] - 0s 747us/step - loss: 0.2860 - accuracy: 0.8893\n",
      "Epoch 30/100\n",
      "24/24 [==============================] - 0s 832us/step - loss: 0.2817 - accuracy: 0.8893\n",
      "Epoch 31/100\n",
      "24/24 [==============================] - 0s 842us/step - loss: 0.2778 - accuracy: 0.8893\n",
      "Epoch 32/100\n",
      "24/24 [==============================] - 0s 772us/step - loss: 0.2741 - accuracy: 0.8893\n",
      "Epoch 33/100\n",
      "24/24 [==============================] - 0s 2ms/step - loss: 0.2709 - accuracy: 0.8907\n",
      "Epoch 34/100\n",
      "24/24 [==============================] - 0s 725us/step - loss: 0.2678 - accuracy: 0.8907\n",
      "Epoch 35/100\n",
      "24/24 [==============================] - 0s 774us/step - loss: 0.2649 - accuracy: 0.8920\n",
      "Epoch 36/100\n",
      "24/24 [==============================] - 0s 744us/step - loss: 0.2624 - accuracy: 0.8920\n",
      "Epoch 37/100\n",
      "24/24 [==============================] - 0s 924us/step - loss: 0.2599 - accuracy: 0.8920\n",
      "Epoch 38/100\n",
      "24/24 [==============================] - 0s 673us/step - loss: 0.2576 - accuracy: 0.8920\n",
      "Epoch 39/100\n",
      "24/24 [==============================] - 0s 815us/step - loss: 0.2554 - accuracy: 0.8920\n",
      "Epoch 40/100\n",
      "24/24 [==============================] - 0s 738us/step - loss: 0.2535 - accuracy: 0.8920\n",
      "Epoch 41/100\n",
      "24/24 [==============================] - 0s 728us/step - loss: 0.2516 - accuracy: 0.8920\n",
      "Epoch 42/100\n",
      "24/24 [==============================] - 0s 766us/step - loss: 0.2499 - accuracy: 0.8920\n",
      "Epoch 43/100\n",
      "24/24 [==============================] - 0s 874us/step - loss: 0.2482 - accuracy: 0.8960\n",
      "Epoch 44/100\n",
      "24/24 [==============================] - 0s 775us/step - loss: 0.2468 - accuracy: 0.8947\n",
      "Epoch 45/100\n",
      "24/24 [==============================] - 0s 764us/step - loss: 0.2454 - accuracy: 0.8960\n",
      "Epoch 46/100\n",
      "24/24 [==============================] - 0s 754us/step - loss: 0.2440 - accuracy: 0.8960\n",
      "Epoch 47/100\n",
      "24/24 [==============================] - 0s 808us/step - loss: 0.2427 - accuracy: 0.8960\n",
      "Epoch 48/100\n",
      "24/24 [==============================] - 0s 775us/step - loss: 0.2415 - accuracy: 0.8960\n",
      "Epoch 49/100\n",
      "24/24 [==============================] - 0s 733us/step - loss: 0.2403 - accuracy: 0.8960\n",
      "Epoch 50/100\n",
      "24/24 [==============================] - 0s 754us/step - loss: 0.2391 - accuracy: 0.8960\n",
      "Epoch 51/100\n",
      "24/24 [==============================] - 0s 797us/step - loss: 0.2380 - accuracy: 0.8987\n",
      "Epoch 52/100\n",
      "24/24 [==============================] - 0s 755us/step - loss: 0.2369 - accuracy: 0.8987\n",
      "Epoch 53/100\n",
      "24/24 [==============================] - 0s 773us/step - loss: 0.2359 - accuracy: 0.8973\n",
      "Epoch 54/100\n",
      "24/24 [==============================] - 0s 758us/step - loss: 0.2348 - accuracy: 0.8987\n",
      "Epoch 55/100\n",
      "24/24 [==============================] - 0s 748us/step - loss: 0.2337 - accuracy: 0.8987\n",
      "Epoch 56/100\n",
      "24/24 [==============================] - 0s 748us/step - loss: 0.2327 - accuracy: 0.8987\n",
      "Epoch 57/100\n",
      "24/24 [==============================] - 0s 691us/step - loss: 0.2318 - accuracy: 0.8987\n",
      "Epoch 58/100\n",
      "24/24 [==============================] - 0s 754us/step - loss: 0.2307 - accuracy: 0.8987\n",
      "Epoch 59/100\n",
      "24/24 [==============================] - 0s 763us/step - loss: 0.2299 - accuracy: 0.8987\n",
      "Epoch 60/100\n",
      "24/24 [==============================] - 0s 782us/step - loss: 0.2288 - accuracy: 0.8987\n",
      "Epoch 61/100\n",
      "24/24 [==============================] - 0s 741us/step - loss: 0.2278 - accuracy: 0.8987\n",
      "Epoch 62/100\n",
      "24/24 [==============================] - 0s 762us/step - loss: 0.2268 - accuracy: 0.8987\n",
      "Epoch 63/100\n",
      "24/24 [==============================] - 0s 771us/step - loss: 0.2260 - accuracy: 0.9013\n",
      "Epoch 64/100\n",
      "24/24 [==============================] - 0s 765us/step - loss: 0.2248 - accuracy: 0.9000\n",
      "Epoch 65/100\n",
      "24/24 [==============================] - 0s 688us/step - loss: 0.2239 - accuracy: 0.9000\n",
      "Epoch 66/100\n",
      "24/24 [==============================] - 0s 726us/step - loss: 0.2228 - accuracy: 0.9013\n",
      "Epoch 67/100\n",
      "24/24 [==============================] - 0s 751us/step - loss: 0.2218 - accuracy: 0.9013\n",
      "Epoch 68/100\n",
      "24/24 [==============================] - 0s 748us/step - loss: 0.2208 - accuracy: 0.9013\n",
      "Epoch 69/100\n",
      "24/24 [==============================] - 0s 721us/step - loss: 0.2198 - accuracy: 0.9040\n",
      "Epoch 70/100\n",
      "24/24 [==============================] - 0s 637us/step - loss: 0.2187 - accuracy: 0.9040\n",
      "Epoch 71/100\n",
      "24/24 [==============================] - 0s 748us/step - loss: 0.2177 - accuracy: 0.9053\n",
      "Epoch 72/100\n",
      "24/24 [==============================] - 0s 774us/step - loss: 0.2167 - accuracy: 0.9067\n",
      "Epoch 73/100\n",
      "24/24 [==============================] - 0s 769us/step - loss: 0.2156 - accuracy: 0.9053\n",
      "Epoch 74/100\n",
      "24/24 [==============================] - 0s 747us/step - loss: 0.2145 - accuracy: 0.9067\n",
      "Epoch 75/100\n",
      "24/24 [==============================] - 0s 742us/step - loss: 0.2133 - accuracy: 0.9067\n",
      "Epoch 76/100\n",
      "24/24 [==============================] - 0s 760us/step - loss: 0.2122 - accuracy: 0.9067\n",
      "Epoch 77/100\n",
      "24/24 [==============================] - 0s 947us/step - loss: 0.2111 - accuracy: 0.9067\n",
      "Epoch 78/100\n",
      "24/24 [==============================] - 0s 649us/step - loss: 0.2100 - accuracy: 0.9067\n",
      "Epoch 79/100\n",
      "24/24 [==============================] - 0s 709us/step - loss: 0.2088 - accuracy: 0.9080\n",
      "Epoch 80/100\n",
      "24/24 [==============================] - 0s 720us/step - loss: 0.2076 - accuracy: 0.9080\n",
      "Epoch 81/100\n"
     ]
    },
    {
     "name": "stdout",
     "output_type": "stream",
     "text": [
      "24/24 [==============================] - 0s 714us/step - loss: 0.2065 - accuracy: 0.9080\n",
      "Epoch 82/100\n",
      "24/24 [==============================] - 0s 713us/step - loss: 0.2052 - accuracy: 0.9093\n",
      "Epoch 83/100\n",
      "24/24 [==============================] - 0s 664us/step - loss: 0.2039 - accuracy: 0.9107\n",
      "Epoch 84/100\n",
      "24/24 [==============================] - 0s 716us/step - loss: 0.2026 - accuracy: 0.9120\n",
      "Epoch 85/100\n",
      "24/24 [==============================] - 0s 696us/step - loss: 0.2013 - accuracy: 0.9120\n",
      "Epoch 86/100\n",
      "24/24 [==============================] - 0s 692us/step - loss: 0.2002 - accuracy: 0.9107\n",
      "Epoch 87/100\n",
      "24/24 [==============================] - 0s 653us/step - loss: 0.1989 - accuracy: 0.9120\n",
      "Epoch 88/100\n",
      "24/24 [==============================] - 0s 684us/step - loss: 0.1975 - accuracy: 0.9147\n",
      "Epoch 89/100\n",
      "24/24 [==============================] - 0s 678us/step - loss: 0.1963 - accuracy: 0.9147\n",
      "Epoch 90/100\n",
      "24/24 [==============================] - 0s 676us/step - loss: 0.1949 - accuracy: 0.9147\n",
      "Epoch 91/100\n",
      "24/24 [==============================] - 0s 653us/step - loss: 0.1935 - accuracy: 0.9160\n",
      "Epoch 92/100\n",
      "24/24 [==============================] - 0s 668us/step - loss: 0.1922 - accuracy: 0.9173\n",
      "Epoch 93/100\n",
      "24/24 [==============================] - 0s 682us/step - loss: 0.1909 - accuracy: 0.9173\n",
      "Epoch 94/100\n",
      "24/24 [==============================] - 0s 666us/step - loss: 0.1895 - accuracy: 0.9173\n",
      "Epoch 95/100\n",
      "24/24 [==============================] - 0s 657us/step - loss: 0.1882 - accuracy: 0.9187\n",
      "Epoch 96/100\n",
      "24/24 [==============================] - 0s 655us/step - loss: 0.1868 - accuracy: 0.9227\n",
      "Epoch 97/100\n",
      "24/24 [==============================] - 0s 669us/step - loss: 0.1854 - accuracy: 0.9227\n",
      "Epoch 98/100\n",
      "24/24 [==============================] - 0s 699us/step - loss: 0.1840 - accuracy: 0.9227\n",
      "Epoch 99/100\n",
      "24/24 [==============================] - 0s 699us/step - loss: 0.1826 - accuracy: 0.9227\n",
      "Epoch 100/100\n",
      "24/24 [==============================] - 0s 696us/step - loss: 0.1812 - accuracy: 0.9253\n"
     ]
    }
   ],
   "source": [
    "# Compile the Sequential model together and customize metrics\n",
    "new_model.compile(loss=\"binary_crossentropy\", optimizer=\"adam\", metrics=[\"accuracy\"])\n",
    "\n",
    "# Fit the model to the training data\n",
    "new_fit_model = new_model.fit(X_moon_train_scaled, y_moon_train, epochs=100, shuffle=True)"
   ]
  },
  {
   "cell_type": "code",
   "execution_count": 66,
   "metadata": {},
   "outputs": [],
   "source": [
    "#as we increase the number of neurons within the hidden layer,\n",
    "#the classification accuracy improves"
   ]
  },
  {
   "cell_type": "code",
   "execution_count": 67,
   "metadata": {},
   "outputs": [],
   "source": [
    "#19.2.6 Give Your Model a Synaptic Boost\n",
    "\n",
    "#There are a few means of optimizing a neural network:\n",
    "\n",
    "#1. Check out your input dataset.\n",
    "#2. Add more neurons to a hidden layer.\n",
    "#3. Add additional hidden layers.\n",
    "#4. Use a different activation function for the hidden layers.\n",
    "#5. Add additional epochs to the training regimen."
   ]
  },
  {
   "cell_type": "code",
   "execution_count": 68,
   "metadata": {},
   "outputs": [],
   "source": [
    "#SKILL DRILL:Try plotting a variable using Pandas’ Series.plot\n",
    "#method to look for outliers that can help identify if a\n",
    "#particular numerical variable is causing confusion in a model.\n",
    "#Try leaving out a noisy variable from the rest of the training\n",
    "#features and see if the model performs better.\n"
   ]
  },
  {
   "cell_type": "code",
   "execution_count": 69,
   "metadata": {},
   "outputs": [],
   "source": [
    "#Use a Different Activation Function\n",
    "\n",
    "#1. The sigmoid function values are normalized to a\n",
    "#probability between 0 and 1, which is ideal for binary classification.\n",
    "\n",
    "#2. The tanh function can be used for classification or regression,\n",
    "#and it expands the range between -1 and 1.\n",
    "\n",
    "#3. The ReLU function is ideal for looking at positive nonlinear input\n",
    "#data for classification or regression.\n",
    "\n",
    "#4. The Leaky ReLU function is a good alternative for nonlinear input\n",
    "#data with many negative inputs."
   ]
  },
  {
   "cell_type": "code",
   "execution_count": 70,
   "metadata": {},
   "outputs": [],
   "source": [
    "#Go ahead and use the TensorFlow Playground and dummy datasets to practice building basic neural networks. In addition, try saving multiple neural network models in the same script and compare the performance of each model, asking the following questions:\n",
    "\n",
    "#1. What is the accuracy of my model? Is it acceptable or does it need\n",
    "#to be higher?\n",
    "\n",
    "#2. How long did it take to train my model? How many minutes or hours?\n",
    "#How many epochs?\n",
    "\n",
    "#3. Does it look like my model is as complex as my input data?\n",
    "#These reflective questions will help you identify what steps\n",
    "#are needed to make your neural network (and other machine\n",
    "#learning and statistical) models even better!"
   ]
  }
 ],
 "metadata": {
  "kernelspec": {
   "display_name": "PythonData",
   "language": "python",
   "name": "pythondata"
  },
  "language_info": {
   "codemirror_mode": {
    "name": "ipython",
    "version": 3
   },
   "file_extension": ".py",
   "mimetype": "text/x-python",
   "name": "python",
   "nbconvert_exporter": "python",
   "pygments_lexer": "ipython3",
   "version": "3.7.6"
  }
 },
 "nbformat": 4,
 "nbformat_minor": 4
}
